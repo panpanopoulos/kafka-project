{
 "cells": [
  {
   "cell_type": "code",
   "execution_count": 1,
   "id": "4f898fa3",
   "metadata": {},
   "outputs": [],
   "source": [
    "import json\n",
    "from kafka import KafkaProducer\n",
    "from kafka import KafkaConsumer\n",
    "import random\n",
    "import time\n",
    "import psycopg2 as pg2"
   ]
  },
  {
   "cell_type": "code",
   "execution_count": 2,
   "id": "7845136b",
   "metadata": {},
   "outputs": [],
   "source": [
    "KAFKA_TOPIC='food_orders'\n",
    "postgres_user='postgres'\n",
    "postgres_password='postgres'"
   ]
  },
  {
   "cell_type": "code",
   "execution_count": 3,
   "id": "0574c081",
   "metadata": {},
   "outputs": [],
   "source": [
    "consumer=KafkaConsumer(KAFKA_TOPIC,bootstrap_servers=['localhost:29092'])"
   ]
  },
  {
   "cell_type": "code",
   "execution_count": null,
   "id": "2758986d",
   "metadata": {},
   "outputs": [
    {
     "name": "stdout",
     "output_type": "stream",
     "text": [
      "Start receiving the orders\n",
      "Ongoing order\n",
      "Ongoing order\n",
      "Ongoing order\n",
      "Ongoing order\n",
      "Ongoing order\n",
      "Ongoing order\n",
      "Ongoing order\n",
      "Ongoing order\n",
      "Ongoing order\n",
      "Ongoing order\n",
      "Ongoing order\n"
     ]
    }
   ],
   "source": [
    "print('Start receiving the orders')\n",
    "conn=pg2.connect(database='kafka_project_orders',user=postgres_user,password=postgres_password)\n",
    "cursor=conn.cursor()\n",
    "for message in consumer:\n",
    "    print('Ongoing order')\n",
    "    consumed_message=json.loads(message.value.decode())\n",
    "    product=consumed_message['product']\n",
    "    price=consumed_message['price']\n",
    "    cursor.execute(\"INSERT INTO orders(product,price) VALUES ('{}',{})\".format(product,price))\n",
    "    conn.commit()"
   ]
  },
  {
   "cell_type": "code",
   "execution_count": null,
   "id": "6d659255",
   "metadata": {},
   "outputs": [],
   "source": [
    "conn.close()"
   ]
  },
  {
   "cell_type": "code",
   "execution_count": null,
   "id": "a26f1424",
   "metadata": {},
   "outputs": [],
   "source": []
  }
 ],
 "metadata": {
  "kernelspec": {
   "display_name": "Python 3 (ipykernel)",
   "language": "python",
   "name": "python3"
  },
  "language_info": {
   "codemirror_mode": {
    "name": "ipython",
    "version": 3
   },
   "file_extension": ".py",
   "mimetype": "text/x-python",
   "name": "python",
   "nbconvert_exporter": "python",
   "pygments_lexer": "ipython3",
   "version": "3.9.13"
  }
 },
 "nbformat": 4,
 "nbformat_minor": 5
}
