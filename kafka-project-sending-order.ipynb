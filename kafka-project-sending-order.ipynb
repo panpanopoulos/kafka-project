{
 "cells": [
  {
   "cell_type": "code",
   "execution_count": 1,
   "id": "fa456dfe",
   "metadata": {},
   "outputs": [],
   "source": [
    "import json\n",
    "from kafka import KafkaProducer\n",
    "from kafka import KafkaConsumer\n",
    "import random\n",
    "import time\n",
    "import psycopg2 as pg2\n",
    "import datetime\n",
    "from datetime import timedelta,datetime"
   ]
  },
  {
   "cell_type": "code",
   "execution_count": 2,
   "id": "c40cb14e",
   "metadata": {},
   "outputs": [],
   "source": [
    "KAFKA_TOPIC='food_orders'\n",
    "PRODUCER_LIMIT_MINS=2"
   ]
  },
  {
   "cell_type": "code",
   "execution_count": 3,
   "id": "ce619463",
   "metadata": {},
   "outputs": [],
   "source": [
    "menu=[{'product':'cheeseburger','price':15},{'product':'hotdog','price':10},{'product':'coca-cola','price':3},{'product':'pizza','price':12},{'product':'fanta','price':3}]"
   ]
  },
  {
   "cell_type": "code",
   "execution_count": 4,
   "id": "56023fae",
   "metadata": {},
   "outputs": [],
   "source": [
    "producer = KafkaProducer(bootstrap_servers=['localhost:29092'])"
   ]
  },
  {
   "cell_type": "code",
   "execution_count": 5,
   "id": "498cbdf6",
   "metadata": {
    "scrolled": true
   },
   "outputs": [
    {
     "name": "stdout",
     "output_type": "stream",
     "text": [
      "order #0 is sent\n",
      "order #1 is sent\n",
      "order #2 is sent\n",
      "order #3 is sent\n",
      "order #4 is sent\n",
      "order #5 is sent\n",
      "order #6 is sent\n",
      "order #7 is sent\n",
      "order #8 is sent\n",
      "order #9 is sent\n",
      "order #10 is sent\n",
      "order #11 is sent\n"
     ]
    }
   ],
   "source": [
    "start=datetime.now()\n",
    "minutes_passed=0\n",
    "order_num=0\n",
    "while minutes_passed<PRODUCER_LIMIT_MINS:\n",
    "    product_ordered=random.choice(menu)\n",
    "    producer.send(KAFKA_TOPIC,json.dumps(product_ordered).encode(\"utf-8\"))\n",
    "    print('order #{} is sent'.format(order_num))\n",
    "    time.sleep(10)\n",
    "    time_elapsed_timedelta=datetime.now()-start\n",
    "    minutes_passed=time_elapsed_timedelta.total_seconds()//60\n",
    "    order_num+=1"
   ]
  },
  {
   "cell_type": "code",
   "execution_count": null,
   "id": "898a3292",
   "metadata": {},
   "outputs": [],
   "source": []
  }
 ],
 "metadata": {
  "kernelspec": {
   "display_name": "Python 3 (ipykernel)",
   "language": "python",
   "name": "python3"
  },
  "language_info": {
   "codemirror_mode": {
    "name": "ipython",
    "version": 3
   },
   "file_extension": ".py",
   "mimetype": "text/x-python",
   "name": "python",
   "nbconvert_exporter": "python",
   "pygments_lexer": "ipython3",
   "version": "3.9.13"
  }
 },
 "nbformat": 4,
 "nbformat_minor": 5
}
