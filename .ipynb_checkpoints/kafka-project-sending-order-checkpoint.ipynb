{
 "cells": [
  {
   "cell_type": "code",
   "execution_count": 3,
   "id": "34737fa7",
   "metadata": {},
   "outputs": [],
   "source": [
    "import json\n",
    "from kafka import KafkaProducer\n",
    "from kafka import KafkaConsumer\n",
    "import random\n",
    "import time\n",
    "import psycopg2 as pg2"
   ]
  },
  {
   "cell_type": "code",
   "execution_count": 4,
   "id": "5595dead",
   "metadata": {},
   "outputs": [],
   "source": [
    "KAFKA_TOPIC='food_orders'\n",
    "ORDER_LIMIT=10"
   ]
  },
  {
   "cell_type": "code",
   "execution_count": 5,
   "id": "c169498a",
   "metadata": {},
   "outputs": [],
   "source": [
    "menu=[{'product':'cheeseburger','price':15},{'product':'hotdog','price':10},{'product':'coca-cola','price':3},{'product':'pizza','price':12},{'product':'fanta','price':3}]"
   ]
  },
  {
   "cell_type": "code",
   "execution_count": 6,
   "id": "806cd6d5",
   "metadata": {},
   "outputs": [],
   "source": [
    "producer = KafkaProducer(bootstrap_servers=['localhost:29092'])"
   ]
  },
  {
   "cell_type": "code",
   "execution_count": 8,
   "id": "ba65824c",
   "metadata": {
    "scrolled": true
   },
   "outputs": [
    {
     "name": "stdout",
     "output_type": "stream",
     "text": [
      "order #1 is sent\n",
      "order #2 is sent\n",
      "order #3 is sent\n",
      "order #4 is sent\n",
      "order #5 is sent\n",
      "order #6 is sent\n",
      "order #7 is sent\n",
      "order #8 is sent\n",
      "order #9 is sent\n"
     ]
    }
   ],
   "source": [
    "for order in range(1,ORDER_LIMIT):\n",
    "    product_ordered=random.choice(menu)\n",
    "    producer.send(KAFKA_TOPIC,json.dumps(product_ordered).encode(\"utf-8\"))\n",
    "    print('order #{} is sent'.format(order))\n",
    "    time.sleep(10)"
   ]
  },
  {
   "cell_type": "code",
   "execution_count": null,
   "id": "627e6c30",
   "metadata": {},
   "outputs": [],
   "source": []
  }
 ],
 "metadata": {
  "kernelspec": {
   "display_name": "Python 3 (ipykernel)",
   "language": "python",
   "name": "python3"
  },
  "language_info": {
   "codemirror_mode": {
    "name": "ipython",
    "version": 3
   },
   "file_extension": ".py",
   "mimetype": "text/x-python",
   "name": "python",
   "nbconvert_exporter": "python",
   "pygments_lexer": "ipython3",
   "version": "3.9.13"
  }
 },
 "nbformat": 4,
 "nbformat_minor": 5
}
